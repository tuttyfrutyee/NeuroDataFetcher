{
 "cells": [
  {
   "cell_type": "code",
   "execution_count": 2,
   "metadata": {},
   "outputs": [],
   "source": [
    "%load_ext autoreload\n",
    "%autoreload 2\n"
   ]
  },
  {
   "cell_type": "code",
   "execution_count": 3,
   "metadata": {},
   "outputs": [
    {
     "name": "stdout",
     "output_type": "stream",
     "text": [
      "/src/code/MyTools/NeuroDataFetcher\n"
     ]
    },
    {
     "name": "stderr",
     "output_type": "stream",
     "text": [
      "/usr/local/lib/python3.10/dist-packages/IPython/core/magics/osm.py:417: UserWarning: This is now an optional IPython functionality, setting dhist requires you to install the `pickleshare` library.\n",
      "  self.shell.db['dhist'] = compress_dhist(dhist)[-100:]\n"
     ]
    }
   ],
   "source": [
    "cd \"/src/code/MyTools/NeuroDataFetcher/\""
   ]
  },
  {
   "cell_type": "code",
   "execution_count": 4,
   "metadata": {},
   "outputs": [
    {
     "data": {
      "text/plain": [
       "'/src/code/MyTools/NeuroDataFetcher'"
      ]
     },
     "execution_count": 4,
     "metadata": {},
     "output_type": "execute_result"
    }
   ],
   "source": [
    "pwd"
   ]
  },
  {
   "cell_type": "code",
   "execution_count": 74,
   "metadata": {},
   "outputs": [],
   "source": [
    "from Utils.directory_manager import DirectoryManager\n",
    "from Utils.nlb_tools.nwb_interface import NWBDataset\n",
    "\n",
    "dataset_paths = {\n",
    "    'mc_maze_small': {\n",
    "        'train': '/my_data/NEURAL_LATENTS/MC_MAZE/small/000140/sub-Jenkins/sub-Jenkins_ses-small_desc-train_behavior+ecephys.nwb',\n",
    "        'test': '/my_data/NEURAL_LATENTS/MC_MAZE/small/000140/sub-Jenkins/sub-Jenkins_ses-small_desc-test_ecephys.nwb'\n",
    "    },\n",
    "    \"mc_maze\" : {\n",
    "        \"train\" : \"/my_data/NEURAL_LATENTS/MC_MAZE/standard/000128/sub-Jenkins/sub-Jenkins_ses-full_desc-train_behavior+ecephys.nwb\",\n",
    "        \"test\" : \"/my_data/NEURAL_LATENTS/MC_MAZE/standard/000128/sub-Jenkins/sub-Jenkins_ses-full_desc-test_ecephys.nwb\"\n",
    "    }\n",
    "}"
   ]
  },
  {
   "cell_type": "code",
   "execution_count": 68,
   "metadata": {},
   "outputs": [
    {
     "name": "stdout",
     "output_type": "stream",
     "text": [
      "dataset_path_train =  /my_data/NEURAL_LATENTS/MC_MAZE/small/000140/sub-Jenkins/sub-Jenkins_ses-small_desc-train_behavior+ecephys.nwb\n",
      "dataset_path_test =  /my_data/NEURAL_LATENTS/MC_MAZE/small/000140/sub-Jenkins/sub-Jenkins_ses-small_desc-test_ecephys.nwb\n"
     ]
    }
   ],
   "source": [
    "\n",
    "\n",
    "dm = DirectoryManager(dataset_paths)\n",
    "\n",
    "targetDataset = \"mc_maze_small\"\n",
    "\n",
    "dataset_path_train = dm.get_paths(targetDataset, \"train\")\n",
    "dataset_path_test = dm.get_paths(targetDataset, \"test\")\n",
    "\n",
    "print(\"dataset_path_train = \", dataset_path_train)\n",
    "print(\"dataset_path_test = \", dataset_path_test)"
   ]
  },
  {
   "cell_type": "code",
   "execution_count": 115,
   "metadata": {},
   "outputs": [
    {
     "name": "stdout",
     "output_type": "stream",
     "text": [
      "hey there\n",
      "filenames =  ['/my_data/NEURAL_LATENTS/MC_MAZE/small/000140/sub-Jenkins/sub-Jenkins_ses-small_desc-train_behavior+ecephys.nwb']\n"
     ]
    },
    {
     "name": "stderr",
     "output_type": "stream",
     "text": [
      "/usr/local/lib/python3.10/dist-packages/hdmf/spec/namespace.py:535: UserWarning: Ignoring cached namespace 'hdmf-common' version 1.5.0 because version 1.8.0 is already loaded.\n",
      "  warn(\"Ignoring cached namespace '%s' version %s because version %s is already loaded.\"\n",
      "/usr/local/lib/python3.10/dist-packages/hdmf/spec/namespace.py:535: UserWarning: Ignoring cached namespace 'core' version 2.4.0 because version 2.7.0 is already loaded.\n",
      "  warn(\"Ignoring cached namespace '%s' version %s because version %s is already loaded.\"\n",
      "/usr/local/lib/python3.10/dist-packages/hdmf/spec/namespace.py:535: UserWarning: Ignoring cached namespace 'hdmf-experimental' version 0.1.0 because version 0.5.0 is already loaded.\n",
      "  warn(\"Ignoring cached namespace '%s' version %s because version %s is already loaded.\"\n"
     ]
    },
    {
     "name": "stdout",
     "output_type": "stream",
     "text": [
      "data_dict =  {'cursor_pos':                                  x          y\n",
      "0 days 00:00:00          -4.100000   3.000000\n",
      "0 days 00:00:00.001000   -4.073506   3.007478\n",
      "0 days 00:00:00.002000   -4.048922   3.012831\n",
      "0 days 00:00:00.003000   -4.027829   3.014146\n",
      "0 days 00:00:00.004000   -4.011346   3.010063\n",
      "...                            ...        ...\n",
      "0 days 00:04:53.661000 -116.401677 -78.966218\n",
      "0 days 00:04:53.662000 -116.413528 -78.938493\n",
      "0 days 00:04:53.663000 -116.436155 -78.918935\n",
      "0 days 00:04:53.664000 -116.466842 -78.907063\n",
      "0 days 00:04:53.665000 -116.500000 -78.900000\n",
      "\n",
      "[287710 rows x 2 columns], 'eye_pos':                             x      y\n",
      "0 days 00:00:00         -11.9   -5.6\n",
      "0 days 00:00:00.001000  -10.1   -5.9\n",
      "0 days 00:00:00.002000  -10.2   -4.1\n",
      "0 days 00:00:00.003000  -10.0   -5.6\n",
      "0 days 00:00:00.004000  -10.5   -8.8\n",
      "...                       ...    ...\n",
      "0 days 00:04:53.661000 -129.1 -123.8\n",
      "0 days 00:04:53.662000 -129.2 -123.5\n",
      "0 days 00:04:53.663000 -129.2 -123.5\n",
      "0 days 00:04:53.664000 -129.4 -124.1\n",
      "0 days 00:04:53.665000 -129.4 -123.6\n",
      "\n",
      "[287710 rows x 2 columns], 'hand_pos':                                  x           y\n",
      "0 days 00:00:00          -4.069391  -31.888893\n",
      "0 days 00:00:00.001000   -4.066941  -31.900723\n",
      "0 days 00:00:00.002000   -4.064521  -31.912980\n",
      "0 days 00:00:00.003000   -4.062168  -31.925501\n",
      "0 days 00:00:00.004000   -4.059822  -31.938112\n",
      "...                            ...         ...\n",
      "0 days 00:04:53.661000 -116.515944 -113.892508\n",
      "0 days 00:04:53.662000 -116.518153 -113.887462\n",
      "0 days 00:04:53.663000 -116.520040 -113.883305\n",
      "0 days 00:04:53.664000 -116.521716 -113.880071\n",
      "0 days 00:04:53.665000 -116.523146 -113.877507\n",
      "\n",
      "[287710 rows x 2 columns], 'hand_vel':                                x          y\n",
      "0 days 00:00:00         2.450720 -11.829852\n",
      "0 days 00:00:00.001000  2.435183 -12.043778\n",
      "0 days 00:00:00.002000  2.386269 -12.389198\n",
      "0 days 00:00:00.003000  2.349501 -12.565892\n",
      "0 days 00:00:00.004000  2.333177 -12.663237\n",
      "...                          ...        ...\n",
      "0 days 00:04:53.661000 -2.313490   5.483961\n",
      "0 days 00:04:53.662000 -2.048251   4.601440\n",
      "0 days 00:04:53.663000 -1.781295   3.695670\n",
      "0 days 00:04:53.664000 -1.552728   2.898661\n",
      "0 days 00:04:53.665000 -1.429880   2.563202\n",
      "\n",
      "[287710 rows x 2 columns]}\n",
      "end_time =  293666\n",
      "trial_info['end_time'].iloc[-1] =  293.666\n",
      "start_time =  0.0\n",
      "end_time =  293666\n",
      "bin_width =  1\n",
      "timestamps.shape =  (293666,)\n",
      "units.heldout.to_numpy().shape =  (142,)\n",
      "spike_arr.shape =  (293666, 107)\n",
      "has spike arr any nans?  True\n",
      "number of nans in spike arr =  637292\n",
      "percentage of nans in spike arr =  0.020281544339487718\n",
      "spike_arr.shape =  (293666, 35)\n",
      "has spike arr any nans?  True\n",
      "number of nans in spike arr =  208460\n",
      "percentage of nans in spike arr =  0.020281544339487718\n",
      "\n",
      "For cursor_pos:\n",
      "Unique time differences (in nanoseconds):\n",
      "<TimedeltaArray>\n",
      "[                     NaT, '0 days 00:00:00.001000', '0 days 00:00:00.080000',\n",
      " '0 days 00:00:00.070000', '0 days 00:00:00.065000', '0 days 00:00:00.055000',\n",
      " '0 days 00:00:00.095000', '0 days 00:00:00.050000', '0 days 00:00:00.075000',\n",
      " '0 days 00:00:00.030000', '0 days 00:00:00.060000', '0 days 00:00:00.025000',\n",
      " '0 days 00:00:00.045000', '0 days 00:00:00.040000', '0 days 00:00:00.110000',\n",
      " '0 days 00:00:00.020000', '0 days 00:00:00.085000', '0 days 00:00:00.090000',\n",
      " '0 days 00:00:00.105000', '0 days 00:00:00.035000', '0 days 00:00:00.015000',\n",
      " '0 days 00:00:00.100000']\n",
      "Length: 22, dtype: timedelta64[ns]\n",
      "Number of rows: 287710\n",
      "\n",
      "For eye_pos:\n",
      "Unique time differences (in nanoseconds):\n",
      "<TimedeltaArray>\n",
      "[                     NaT, '0 days 00:00:00.001000', '0 days 00:00:00.080000',\n",
      " '0 days 00:00:00.070000', '0 days 00:00:00.065000', '0 days 00:00:00.055000',\n",
      " '0 days 00:00:00.095000', '0 days 00:00:00.050000', '0 days 00:00:00.075000',\n",
      " '0 days 00:00:00.030000', '0 days 00:00:00.060000', '0 days 00:00:00.025000',\n",
      " '0 days 00:00:00.045000', '0 days 00:00:00.040000', '0 days 00:00:00.110000',\n",
      " '0 days 00:00:00.020000', '0 days 00:00:00.085000', '0 days 00:00:00.090000',\n",
      " '0 days 00:00:00.105000', '0 days 00:00:00.035000', '0 days 00:00:00.015000',\n",
      " '0 days 00:00:00.100000']\n",
      "Length: 22, dtype: timedelta64[ns]\n",
      "Number of rows: 287710\n",
      "\n",
      "For hand_pos:\n",
      "Unique time differences (in nanoseconds):\n",
      "<TimedeltaArray>\n",
      "[                     NaT, '0 days 00:00:00.001000', '0 days 00:00:00.080000',\n",
      " '0 days 00:00:00.070000', '0 days 00:00:00.065000', '0 days 00:00:00.055000',\n",
      " '0 days 00:00:00.095000', '0 days 00:00:00.050000', '0 days 00:00:00.075000',\n",
      " '0 days 00:00:00.030000', '0 days 00:00:00.060000', '0 days 00:00:00.025000',\n",
      " '0 days 00:00:00.045000', '0 days 00:00:00.040000', '0 days 00:00:00.110000',\n",
      " '0 days 00:00:00.020000', '0 days 00:00:00.085000', '0 days 00:00:00.090000',\n",
      " '0 days 00:00:00.105000', '0 days 00:00:00.035000', '0 days 00:00:00.015000',\n",
      " '0 days 00:00:00.100000']\n",
      "Length: 22, dtype: timedelta64[ns]\n",
      "Number of rows: 287710\n",
      "\n",
      "For hand_vel:\n",
      "Unique time differences (in nanoseconds):\n",
      "<TimedeltaArray>\n",
      "[                     NaT, '0 days 00:00:00.001000', '0 days 00:00:00.080000',\n",
      " '0 days 00:00:00.070000', '0 days 00:00:00.065000', '0 days 00:00:00.055000',\n",
      " '0 days 00:00:00.095000', '0 days 00:00:00.050000', '0 days 00:00:00.075000',\n",
      " '0 days 00:00:00.030000', '0 days 00:00:00.060000', '0 days 00:00:00.025000',\n",
      " '0 days 00:00:00.045000', '0 days 00:00:00.040000', '0 days 00:00:00.110000',\n",
      " '0 days 00:00:00.020000', '0 days 00:00:00.085000', '0 days 00:00:00.090000',\n",
      " '0 days 00:00:00.105000', '0 days 00:00:00.035000', '0 days 00:00:00.015000',\n",
      " '0 days 00:00:00.100000']\n",
      "Length: 22, dtype: timedelta64[ns]\n",
      "Number of rows: 287710\n",
      "\n",
      "For spikes:\n",
      "Unique time differences (in nanoseconds):\n",
      "<TimedeltaArray>\n",
      "[NaT, '0 days 00:00:00.001000']\n",
      "Length: 2, dtype: timedelta64[ns]\n",
      "Number of rows: 293666\n",
      "\n",
      "For heldout_spikes:\n",
      "Unique time differences (in nanoseconds):\n",
      "<TimedeltaArray>\n",
      "[NaT, '0 days 00:00:00.001000']\n",
      "Length: 2, dtype: timedelta64[ns]\n",
      "Number of rows: 293666\n",
      "old data.index =  TimedeltaIndex([       '0 days 00:00:00', '0 days 00:00:00.001000',\n",
      "                '0 days 00:00:00.002000', '0 days 00:00:00.003000',\n",
      "                '0 days 00:00:00.004000', '0 days 00:00:00.005000',\n",
      "                '0 days 00:00:00.006000', '0 days 00:00:00.007000',\n",
      "                '0 days 00:00:00.008000', '0 days 00:00:00.009000',\n",
      "                ...\n",
      "                '0 days 00:04:53.656000', '0 days 00:04:53.657000',\n",
      "                '0 days 00:04:53.658000', '0 days 00:04:53.659000',\n",
      "                '0 days 00:04:53.660000', '0 days 00:04:53.661000',\n",
      "                '0 days 00:04:53.662000', '0 days 00:04:53.663000',\n",
      "                '0 days 00:04:53.664000', '0 days 00:04:53.665000'],\n",
      "               dtype='timedelta64[ns]', length=287710, freq=None)\n",
      "Original index length: 287710\n",
      "Original index first few diffs: [0.001 0.001 0.001 0.001 0.001]\n",
      "Original start: 0 days 00:00:00\n",
      "Original end: 0 days 00:04:53.665000\n"
     ]
    }
   ],
   "source": [
    "dataset_train = NWBDataset(dataset_path_train, split_heldout=True)"
   ]
  },
  {
   "cell_type": "code",
   "execution_count": 116,
   "metadata": {},
   "outputs": [
    {
     "name": "stdout",
     "output_type": "stream",
     "text": [
      "arr.shape[0] =  287710\n",
      "resample_factor =  5\n",
      "arr.shape[0] % resample_factor =  0\n",
      "before arr.shape =  (57542, 35)\n",
      "new arr.shape =  (57542, 35)\n",
      "self.data.index.shape =  (287710,)\n",
      "new index.shape =  (57542,)\n",
      "self.data.index[::resample_factor][-3:] =  TimedeltaIndex(['0 days 00:04:53.651000', '0 days 00:04:53.656000',\n",
      "                '0 days 00:04:53.661000'],\n",
      "               dtype='timedelta64[ns]', name='clock_time', freq=None)\n",
      "arr.shape[0] =  287710\n",
      "resample_factor =  5\n",
      "arr.shape[0] % resample_factor =  0\n",
      "before arr.shape =  (57542, 107)\n",
      "new arr.shape =  (57542, 107)\n",
      "self.data.index.shape =  (287710,)\n",
      "new index.shape =  (57542,)\n",
      "self.data.index[::resample_factor][-3:] =  TimedeltaIndex(['0 days 00:04:53.651000', '0 days 00:04:53.656000',\n",
      "                '0 days 00:04:53.661000'],\n",
      "               dtype='timedelta64[ns]', name='clock_time', freq=None)\n",
      "Index type: <class 'pandas.core.indexes.timedeltas.TimedeltaIndex'>\n",
      "First index value: 0 days 00:00:00\n",
      "Index dtype: timedelta64[ns]\n",
      "self.data.index[-3:] =  TimedeltaIndex(['0 days 00:04:53.651000', '0 days 00:04:53.656000',\n",
      "                '0 days 00:04:53.661000'],\n",
      "               dtype='timedelta64[ns]', name='clock_time', freq=None)\n"
     ]
    }
   ],
   "source": [
    "dataset_train.resample(5)"
   ]
  },
  {
   "cell_type": "code",
   "execution_count": 117,
   "metadata": {},
   "outputs": [
    {
     "name": "stdout",
     "output_type": "stream",
     "text": [
      "dataset_train =  <Utils.nlb_tools.nwb_interface.NWBDataset object at 0x7f8a4b64d660>\n"
     ]
    }
   ],
   "source": [
    "from Utils.nlb_tools.make_tensors import make_train_input_tensors\n",
    "\n",
    "print(\"dataset_train = \", dataset_train)\n",
    "\n",
    "optimize_train_dict = make_train_input_tensors(\n",
    "    dataset_train, dataset_name=targetDataset, trial_split=[\"train\"], save_file=False,\n",
    "    include_behavior=True,\n",
    "    include_forward_pred=True,\n",
    ")"
   ]
  },
  {
   "cell_type": "code",
   "execution_count": 118,
   "metadata": {},
   "outputs": [
    {
     "data": {
      "text/plain": [
       "dict_keys(['train_spikes_heldin', 'train_spikes_heldout', 'train_behavior', 'train_spikes_heldin_forward', 'train_spikes_heldout_forward'])"
      ]
     },
     "execution_count": 118,
     "metadata": {},
     "output_type": "execute_result"
    }
   ],
   "source": [
    "optimize_train_dict.keys()"
   ]
  },
  {
   "cell_type": "code",
   "execution_count": 119,
   "metadata": {},
   "outputs": [
    {
     "data": {
      "text/plain": [
       "(75, 140, 107)"
      ]
     },
     "execution_count": 119,
     "metadata": {},
     "output_type": "execute_result"
    }
   ],
   "source": [
    "optimize_train_dict[\"train_spikes_heldin\"].shape"
   ]
  },
  {
   "cell_type": "code",
   "execution_count": 54,
   "metadata": {},
   "outputs": [
    {
     "name": "stdout",
     "output_type": "stream",
     "text": [
      "NumPy array[::5]: [ 0  5 10]\n",
      "Length: 3\n",
      "Pandas index[::5]: RangeIndex(start=0, stop=13, step=5)\n",
      "Length: 3\n"
     ]
    }
   ],
   "source": [
    "import numpy as np\n",
    "import pandas as pd\n",
    "\n",
    "# NumPy array\n",
    "np_arr = np.arange(13)\n",
    "print(\"NumPy array[::5]:\", np_arr[::5])  # [0 5 10]\n",
    "print(\"Length:\", len(np_arr[::5]))        # 3\n",
    "\n",
    "# Pandas Index\n",
    "pd_idx = pd.Index(range(13))\n",
    "print(\"Pandas index[::5]:\", pd_idx[::5])  # [0 5 10]\n",
    "print(\"Length:\", len(pd_idx[::5]))        # 3"
   ]
  },
  {
   "cell_type": "code",
   "execution_count": null,
   "metadata": {},
   "outputs": [],
   "source": []
  }
 ],
 "metadata": {
  "kernelspec": {
   "display_name": "Python 3 (ipykernel)",
   "language": "python",
   "name": "python3"
  },
  "language_info": {
   "codemirror_mode": {
    "name": "ipython",
    "version": 3
   },
   "file_extension": ".py",
   "mimetype": "text/x-python",
   "name": "python",
   "nbconvert_exporter": "python",
   "pygments_lexer": "ipython3",
   "version": "3.10.12"
  }
 },
 "nbformat": 4,
 "nbformat_minor": 2
}
